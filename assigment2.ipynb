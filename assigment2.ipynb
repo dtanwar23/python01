{
 "cells": [
  {
   "cell_type": "markdown",
   "id": "13b5573d",
   "metadata": {},
   "source": [
    "#  ans 1"
   ]
  },
  {
   "cell_type": "raw",
   "id": "8ea0cc9a",
   "metadata": {},
   "source": [
    "#boolean data type are true and false and written as \n",
    "True, False\n"
   ]
  },
  {
   "cell_type": "markdown",
   "id": "e053e008",
   "metadata": {},
   "source": [
    "# ans 2"
   ]
  },
  {
   "cell_type": "raw",
   "id": "d9675ebf",
   "metadata": {},
   "source": [
    " types of boolean operator\n",
    "and\n",
    "or\n",
    "not"
   ]
  },
  {
   "cell_type": "markdown",
   "id": "0f7ed824",
   "metadata": {},
   "source": [
    "# ans 3"
   ]
  },
  {
   "cell_type": "raw",
   "id": "21ea3161",
   "metadata": {},
   "source": [
    "Truth table\n",
    "true and true = true\n",
    "true and false=false\n",
    "false and false= false\n",
    "false and true=false\n",
    "true or true=true\n",
    "true or false = true\n",
    "false or false=false\n",
    "false or true=true \n",
    "not true=false\n",
    "not false=true"
   ]
  },
  {
   "cell_type": "markdown",
   "id": "04a3342a",
   "metadata": {},
   "source": [
    "# ans 4"
   ]
  },
  {
   "cell_type": "raw",
   "id": "d3ce4a49",
   "metadata": {},
   "source": [
    "(5>4)and(3==5) is false\n",
    "not(5>4) is false\n",
    "(5>4)or(3==5)is true\n",
    "not((5>4)or(3==5))is false\n",
    "(true and true) and(true==false) is false\n",
    "(not false)or(not true) is true "
   ]
  },
  {
   "cell_type": "markdown",
   "id": "f968f25d",
   "metadata": {},
   "source": [
    "# ans 5"
   ]
  },
  {
   "cell_type": "raw",
   "id": "1b5f0e0e",
   "metadata": {},
   "source": [
    "six comparision operator \n",
    "==\n",
    "!=\n",
    ">\n",
    "<\n",
    ">=\n",
    "<="
   ]
  },
  {
   "cell_type": "markdown",
   "id": "6cb9c231",
   "metadata": {},
   "source": [
    "# and 6"
   ]
  },
  {
   "cell_type": "raw",
   "id": "8e0be920",
   "metadata": {},
   "source": [
    "equal to operator use to check weather values are equal or not.it always gives result in form of boolean(true or false) \n",
    "eg: 5==6\n",
    "assignment operator are use to assign right values to left values eg: \n",
    "h=[2,3,4]"
   ]
  },
  {
   "cell_type": "code",
   "execution_count": 23,
   "id": "bf316680",
   "metadata": {},
   "outputs": [
    {
     "name": "stdout",
     "output_type": "stream",
     "text": [
      "ham\n",
      "spam\n"
     ]
    }
   ],
   "source": [
    "spam = 0\n",
    "\n",
    "if spam == 10:\n",
    "    print('egg')\n",
    "    \n",
    "             \n",
    "elif spam > 5 :\n",
    "    \n",
    "    print('bacon')\n",
    "\n",
    "else:\n",
    "    \n",
    "    print('ham')\n",
    "\n",
    "\n",
    "print('spam')\n",
    "\n",
    "#ANS 7\n"
   ]
  },
  {
   "cell_type": "markdown",
   "id": "aa6e92b5",
   "metadata": {},
   "source": [
    "# ans 8"
   ]
  },
  {
   "cell_type": "code",
   "execution_count": 24,
   "id": "be1d1c18",
   "metadata": {},
   "outputs": [
    {
     "name": "stdout",
     "output_type": "stream",
     "text": [
      "greeting\n"
     ]
    }
   ],
   "source": [
    "spam = 0\n",
    "if spam ==1:\n",
    "    print(\"hello\")\n",
    "elif spam ==2:\n",
    "    print(\"howdy\")\n",
    "else :\n",
    "    print(\"greeting\")"
   ]
  },
  {
   "cell_type": "markdown",
   "id": "dc5cbc97",
   "metadata": {},
   "source": [
    "# ans 9"
   ]
  },
  {
   "cell_type": "raw",
   "id": "90a56ac3",
   "metadata": {},
   "source": [
    "ctrl + c"
   ]
  },
  {
   "cell_type": "markdown",
   "id": "de4d4639",
   "metadata": {},
   "source": [
    "# ans 10"
   ]
  },
  {
   "cell_type": "raw",
   "id": "faa7c49b",
   "metadata": {},
   "source": [
    "Break :- The break satement use to the code block of a loop . when it exicuted ,the current loop iteration is stopped and the loop is exited.if the break statement appears in the code block of a loop of a nested loop pattern , only the innermost loop containing the break is exited.\n",
    "\n",
    "continue statement :- this can be added to the code block of a loop. when continue statement is executed,the current,innermost loop iteration is stopped and exicution resume with next iteration of the current ,innermost loop statement. \n",
    "\n"
   ]
  },
  {
   "cell_type": "markdown",
   "id": "2e0545bb",
   "metadata": {},
   "source": [
    "# ans 11"
   ]
  },
  {
   "cell_type": "raw",
   "id": "60ba6d38",
   "metadata": {},
   "source": [
    "there is no diffrence between range(10),range(0,10),range(0,10,1)."
   ]
  },
  {
   "cell_type": "markdown",
   "id": "bddb9011",
   "metadata": {},
   "source": [
    "# ans12 "
   ]
  },
  {
   "cell_type": "code",
   "execution_count": 2,
   "id": "76c92a0c",
   "metadata": {},
   "outputs": [
    {
     "name": "stdout",
     "output_type": "stream",
     "text": [
      "0\n",
      "1\n",
      "2\n",
      "3\n",
      "4\n",
      "5\n",
      "6\n",
      "7\n",
      "8\n",
      "9\n",
      "10\n"
     ]
    }
   ],
   "source": [
    "for i in range(11):\n",
    "    print(i)"
   ]
  },
  {
   "cell_type": "code",
   "execution_count": 1,
   "id": "d3694d19",
   "metadata": {},
   "outputs": [
    {
     "name": "stdout",
     "output_type": "stream",
     "text": [
      "1\n",
      "2\n",
      "3\n",
      "4\n",
      "5\n",
      "6\n",
      "7\n",
      "8\n",
      "9\n",
      "10\n"
     ]
    }
   ],
   "source": [
    "i=1\n",
    "while(i<=10):\n",
    "    \n",
    "    print(i)\n",
    "    i+=1"
   ]
  },
  {
   "cell_type": "markdown",
   "id": "859fd842",
   "metadata": {},
   "source": [
    "# ans 13"
   ]
  },
  {
   "cell_type": "markdown",
   "id": "759c09ee",
   "metadata": {},
   "source": [
    " function can be called with spam.bacon().\n",
    "    "
   ]
  },
  {
   "cell_type": "code",
   "execution_count": null,
   "id": "37e03c5b",
   "metadata": {},
   "outputs": [],
   "source": []
  }
 ],
 "metadata": {
  "kernelspec": {
   "display_name": "Python 3 (ipykernel)",
   "language": "python",
   "name": "python3"
  },
  "language_info": {
   "codemirror_mode": {
    "name": "ipython",
    "version": 3
   },
   "file_extension": ".py",
   "mimetype": "text/x-python",
   "name": "python",
   "nbconvert_exporter": "python",
   "pygments_lexer": "ipython3",
   "version": "3.9.7"
  }
 },
 "nbformat": 4,
 "nbformat_minor": 5
}
