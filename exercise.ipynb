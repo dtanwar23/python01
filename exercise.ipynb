{
 "cells": [
  {
   "cell_type": "markdown",
   "id": "421f27cc",
   "metadata": {},
   "source": [
    "# 1"
   ]
  },
  {
   "cell_type": "code",
   "execution_count": 18,
   "id": "0e0f936a",
   "metadata": {},
   "outputs": [],
   "source": [
    "def test(string):\n",
    "    count = 0\n",
    "    for i in string:\n",
    "        count=count+1\n",
    "    return count"
   ]
  },
  {
   "cell_type": "code",
   "execution_count": 19,
   "id": "a6797567",
   "metadata": {},
   "outputs": [
    {
     "data": {
      "text/plain": [
       "21"
      ]
     },
     "execution_count": 19,
     "metadata": {},
     "output_type": "execute_result"
    }
   ],
   "source": [
    "string=\"digvijaysingh tanwar\"\n",
    "test(string)"
   ]
  },
  {
   "cell_type": "markdown",
   "id": "bb9c0020",
   "metadata": {},
   "source": [
    "# 2  write a fun which will be able to print an index of all premitive element which you will pass"
   ]
  },
  {
   "cell_type": "code",
   "execution_count": 25,
   "id": "7cd5ee65",
   "metadata": {},
   "outputs": [],
   "source": [
    "def test(*args):\n",
    "    \n",
    "    for i in range(len(args)):\n",
    "        l={args[i],i}\n",
    "        print(l)\n",
    " \n",
    "       \n",
    "    "
   ]
  },
  {
   "cell_type": "code",
   "execution_count": 26,
   "id": "30d3bedb",
   "metadata": {},
   "outputs": [
    {
     "name": "stdout",
     "output_type": "stream",
     "text": [
      "{0, 1}\n",
      "{1, 2}\n",
      "{'sudh', 2}\n",
      "{3}\n",
      "{1, 4}\n"
     ]
    }
   ],
   "source": [
    "test(1, 2,\"sudh\", 3, 1)"
   ]
  },
  {
   "cell_type": "markdown",
   "id": "737110da",
   "metadata": {},
   "source": [
    "# 3 Write a fun which will take input as a dict and give me out as a list of all the values \n",
    "even in case of 2 level nesting it should work ."
   ]
  },
  {
   "cell_type": "code",
   "execution_count": 25,
   "id": "020a8f97",
   "metadata": {},
   "outputs": [],
   "source": [
    "def test(d):\n",
    "    l=[]   \n",
    "    for i in d.values():\n",
    "        if type(i)!= dict :\n",
    "            print(i)\n",
    "        \n",
    "        elif type(i) == dict:\n",
    "            \n",
    "            for j in i.values():\n",
    "                if type(j)!= dict:\n",
    "                    print(j)\n",
    "                elif type(j)== dict:\n",
    "                    for k in j.values():\n",
    "                        l.append(k)\n",
    "                        print(k)"
   ]
  },
  {
   "cell_type": "code",
   "execution_count": 26,
   "id": "4da91a8c",
   "metadata": {},
   "outputs": [],
   "source": [
    "d={1:\"neelam\",2:\"dada\",3:\"delhi\",4:{5:{6:7,8:\"bala\"},9:10}}   "
   ]
  },
  {
   "cell_type": "code",
   "execution_count": 27,
   "id": "42409fb0",
   "metadata": {},
   "outputs": [
    {
     "name": "stdout",
     "output_type": "stream",
     "text": [
      "neelam\n",
      "dada\n",
      "delhi\n",
      "7\n",
      "bala\n",
      "10\n"
     ]
    }
   ],
   "source": [
    "test(d)"
   ]
  },
  {
   "cell_type": "markdown",
   "id": "7e6ffa5b",
   "metadata": {},
   "source": [
    "#  5 write a function whihc will take multiple list as a input and give me concatnation of all the element as and output"
   ]
  },
  {
   "cell_type": "code",
   "execution_count": 2,
   "id": "1d91424e",
   "metadata": {},
   "outputs": [],
   "source": [
    "def test4(*args):\n",
    "    l = []\n",
    "    for i in args:\n",
    "        if type(i) == list:\n",
    "            l = l+i\n",
    "    return l  "
   ]
  },
  {
   "cell_type": "code",
   "execution_count": 3,
   "id": "fc8321c7",
   "metadata": {},
   "outputs": [
    {
     "data": {
      "text/plain": [
       "[2, 44, 66, 777, 8, 5, 44, 12, 3, 5, 6, 66]"
      ]
     },
     "execution_count": 3,
     "metadata": {},
     "output_type": "execute_result"
    }
   ],
   "source": [
    "l = [12,3,5,6,66]\n",
    "k=[2,44,66,777,8,5,44]\n",
    "test4(k,l)"
   ]
  },
  {
   "cell_type": "markdown",
   "id": "39427379",
   "metadata": {},
   "source": [
    "# 6 write a function which will be able to take a list as an input return an index of each element like a inbuilt index function but even if we have repetative element it should return index "
   ]
  },
  {
   "cell_type": "code",
   "execution_count": 1,
   "id": "d43aa36f",
   "metadata": {},
   "outputs": [
    {
     "name": "stdout",
     "output_type": "stream",
     "text": [
      "{0, 1}\n",
      "{1, 2}\n",
      "{2, 'sudh'}\n",
      "{3}\n",
      "{1, 4}\n"
     ]
    }
   ],
   "source": [
    "a_list = [1, 2,\"sudh\", 3, 1]\n",
    "\n",
    "for i in range(len(a_list)):\n",
    "    l={a_list[i],i}\n",
    "        \n",
    "    print(l) "
   ]
  },
  {
   "cell_type": "markdown",
   "id": "22dfbf06",
   "metadata": {},
   "source": [
    "# 7 Write a function which will whould return list of all the file name from a directory "
   ]
  },
  {
   "cell_type": "code",
   "execution_count": 28,
   "id": "8401d091",
   "metadata": {},
   "outputs": [
    {
     "name": "stdout",
     "output_type": "stream",
     "text": [
      "Files and directories in ' C:\\Users\\digvijay singh\\digvijay ' :\n",
      "['.ipynb_checkpoints', 'test.txt', 'Untitled.ipynb']\n"
     ]
    }
   ],
   "source": [
    "import os\n",
    "\n",
    "# Get the list of all files and directories\n",
    "# in the root directory\n",
    "path = \"C:\\\\Users\\\\digvijay singh\\\\digvijay\"\n",
    "dir_list = os.listdir(path)\n",
    "\n",
    "print(\"Files and directories in '\", path, \"' :\")\n",
    "\n",
    "\n",
    "print(dir_list)"
   ]
  },
  {
   "cell_type": "markdown",
   "id": "daa7e22d",
   "metadata": {},
   "source": [
    "# 8 write a function which will be able to show your system configuration"
   ]
  },
  {
   "cell_type": "code",
   "execution_count": 29,
   "id": "fbc39a52",
   "metadata": {},
   "outputs": [
    {
     "name": "stdout",
     "output_type": "stream",
     "text": [
      "System: Windows\n",
      "Node Name: DESKTOP-KMQ64HI\n",
      "Release: 10\n",
      "Version: 10.0.22000\n",
      "Machine: AMD64\n",
      "Processor: Intel64 Family 6 Model 140 Stepping 1, GenuineIntel\n"
     ]
    }
   ],
   "source": [
    "import platform\n",
    " \n",
    "my_system = platform.uname()\n",
    " \n",
    "print(f\"System: {my_system.system}\")\n",
    "print(f\"Node Name: {my_system.node}\")\n",
    "print(f\"Release: {my_system.release}\")\n",
    "print(f\"Version: {my_system.version}\")\n",
    "print(f\"Machine: {my_system.machine}\")\n",
    "print(f\"Processor: {my_system.processor}\")"
   ]
  },
  {
   "cell_type": "markdown",
   "id": "b0e31d6f",
   "metadata": {},
   "source": [
    "# 9 write a function which will be able to show date and time "
   ]
  },
  {
   "cell_type": "code",
   "execution_count": 36,
   "id": "3f385956",
   "metadata": {},
   "outputs": [
    {
     "name": "stdout",
     "output_type": "stream",
     "text": [
      "Time now at greenwich meridian is : 2022-01-07 13:07:03.419128+05:30\n"
     ]
    }
   ],
   "source": [
    "import datetime \n",
    "import pytz     \n",
    "# using now() to get current time \n",
    "current_time = datetime.datetime.now(pytz.timezone('Asia/kolkata'))\n",
    "    \n",
    "# Printing value of now. \n",
    "print (\"Time now at greenwich meridian is : \"\n",
    "                                    , end = \"\") \n",
    "print (current_time) "
   ]
  },
  {
   "cell_type": "markdown",
   "id": "7980e853",
   "metadata": {},
   "source": [
    " # 10 write a function whihc will be able to read a image file and show it to you"
   ]
  },
  {
   "cell_type": "code",
   "execution_count": 41,
   "id": "65f322fe",
   "metadata": {},
   "outputs": [
    {
     "ename": "SyntaxError",
     "evalue": "(unicode error) 'unicodeescape' codec can't decode bytes in position 2-3: truncated \\UXXXXXXXX escape (Temp/ipykernel_14292/1705310679.py, line 5)",
     "output_type": "error",
     "traceback": [
      "\u001b[1;36m  File \u001b[1;32m\"C:\\Users\\DIGVIJ~1\\AppData\\Local\\Temp/ipykernel_14292/1705310679.py\"\u001b[1;36m, line \u001b[1;32m5\u001b[0m\n\u001b[1;33m    img = Image.open(\"C:\\Users\\digvijay singh\\Pictures\\Camera Roll\\WIN_20211229_16_58_52_Pro.jpg\")\u001b[0m\n\u001b[1;37m                                                                                                 ^\u001b[0m\n\u001b[1;31mSyntaxError\u001b[0m\u001b[1;31m:\u001b[0m (unicode error) 'unicodeescape' codec can't decode bytes in position 2-3: truncated \\UXXXXXXXX escape\n"
     ]
    }
   ],
   "source": [
    "# importing PIL\n",
    "from PIL import Image\n",
    "  \n",
    "# Read image\n",
    "img = Image.open()\n",
    "  \n",
    "# Output Images\n",
    "img.show()\n",
    "  \n",
    "# prints format of image\n",
    "print(img.format)\n",
    "  \n",
    "# prints mode of image\n",
    "print(img.mode)"
   ]
  },
  {
   "cell_type": "code",
   "execution_count": null,
   "id": "4d51c9d3",
   "metadata": {},
   "outputs": [],
   "source": []
  }
 ],
 "metadata": {
  "kernelspec": {
   "display_name": "Python 3 (ipykernel)",
   "language": "python",
   "name": "python3"
  },
  "language_info": {
   "codemirror_mode": {
    "name": "ipython",
    "version": 3
   },
   "file_extension": ".py",
   "mimetype": "text/x-python",
   "name": "python",
   "nbconvert_exporter": "python",
   "pygments_lexer": "ipython3",
   "version": "3.9.7"
  }
 },
 "nbformat": 4,
 "nbformat_minor": 5
}
