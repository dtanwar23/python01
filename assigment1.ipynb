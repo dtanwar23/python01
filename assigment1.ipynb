{
 "cells": [
  {
   "cell_type": "markdown",
   "id": "83b90e76",
   "metadata": {},
   "source": [
    "# ans 1"
   ]
  },
  {
   "cell_type": "markdown",
   "id": "0689af1b",
   "metadata": {},
   "source": [
    "* ,-,/,+ are expression \n",
    "'hello' string value\n",
    "-87.8 float \n",
    "6 integer"
   ]
  },
  {
   "cell_type": "markdown",
   "id": "916d056b",
   "metadata": {},
   "source": [
    "# ans 2"
   ]
  },
  {
   "cell_type": "markdown",
   "id": "c97bee5a",
   "metadata": {},
   "source": [
    "diffrence b/w string and variable\n",
    "string a class reference to datatype.\n",
    "\n",
    "variable is any alphabet or gropu of alphabet which work as temporary storage locations \n",
    "\n",
    "string is used to represent text type data in between \" \" or ' '.\n",
    "\n",
    "variable is any alphabet or gropu of alphabet which work as temporary storage locations , a variable is used to represent any value."
   ]
  },
  {
   "cell_type": "markdown",
   "id": "61535ef6",
   "metadata": {},
   "source": [
    "# ans 3"
   ]
  },
  {
   "cell_type": "markdown",
   "id": "4ab0a692",
   "metadata": {},
   "source": [
    "list :- In Python a list is created by placing elements inside square brackets [] , separated by commas.A list can have any number of items and they may be of different types integer, float, string, etc.\n",
    "A list can also have another list as an item. This is called a nested list.\n",
    "\n",
    "\n",
    "tuple :- A tuple is created by placing all the items inside parentheses (), separated by commas. The parentheses are optional, however, it is a good practice to use them.\n",
    "\n",
    "A tuple can have any number of items and they may be of different types integer, float, list, string, etc.\n",
    "\n",
    "sets :- A set is created by placing all the items inside curly braces {}, separated by comma, or by using the built-in set() function.\n",
    "\n",
    "It can have any number of items and they may be of different types (integer, float, tuple, string etc.). But a set cannot have mutable elements like lists, sets or dictionaries as its elements."
   ]
  },
  {
   "cell_type": "markdown",
   "id": "1470d09b",
   "metadata": {},
   "source": [
    "# ans 5"
   ]
  },
  {
   "cell_type": "markdown",
   "id": "320055f6",
   "metadata": {},
   "source": [
    "Expressions:- only contain identifiers, literals and operators, where operators include arithmetic and boolean operators, the function call operator () the subscription operator [] and similar, and can be reduced to some kind of \"value\", which can be any Python object. \n",
    "\n",
    "Statements:- (see 1, 2), on the other hand, are everything that can make up a line (or several lines) of Python code. Note that expressions are statements as well."
   ]
  },
  {
   "cell_type": "markdown",
   "id": "4d2cd9c2",
   "metadata": {},
   "source": [
    "# ans 6"
   ]
  },
  {
   "cell_type": "code",
   "execution_count": 4,
   "id": "839dc925",
   "metadata": {},
   "outputs": [
    {
     "data": {
      "text/plain": [
       "23"
      ]
     },
     "execution_count": 4,
     "metadata": {},
     "output_type": "execute_result"
    }
   ],
   "source": [
    "bacon = 22\n",
    "bacon +1"
   ]
  },
  {
   "cell_type": "code",
   "execution_count": 5,
   "id": "7670db98",
   "metadata": {},
   "outputs": [
    {
     "data": {
      "text/plain": [
       "22"
      ]
     },
     "execution_count": 5,
     "metadata": {},
     "output_type": "execute_result"
    }
   ],
   "source": [
    "bacon"
   ]
  },
  {
   "cell_type": "markdown",
   "id": "4fab58c8",
   "metadata": {},
   "source": [
    "it contain 22"
   ]
  },
  {
   "cell_type": "markdown",
   "id": "c07451ec",
   "metadata": {},
   "source": [
    "# ans 7"
   ]
  },
  {
   "cell_type": "code",
   "execution_count": 6,
   "id": "ed19e80f",
   "metadata": {},
   "outputs": [
    {
     "data": {
      "text/plain": [
       "'spamspamspam'"
      ]
     },
     "execution_count": 6,
     "metadata": {},
     "output_type": "execute_result"
    }
   ],
   "source": [
    "'spam'+'spamspam'"
   ]
  },
  {
   "cell_type": "code",
   "execution_count": 7,
   "id": "b9ee315a",
   "metadata": {},
   "outputs": [
    {
     "data": {
      "text/plain": [
       "'spamspamspam'"
      ]
     },
     "execution_count": 7,
     "metadata": {},
     "output_type": "execute_result"
    }
   ],
   "source": [
    "'spam'*3"
   ]
  },
  {
   "cell_type": "markdown",
   "id": "b152dec2",
   "metadata": {},
   "source": [
    "# ans 8"
   ]
  },
  {
   "cell_type": "markdown",
   "id": "d5aa9659",
   "metadata": {},
   "source": [
    "eggs a valid variable while 100 is invalid because name of variable can not start with digit."
   ]
  },
  {
   "cell_type": "markdown",
   "id": "1610aaad",
   "metadata": {},
   "source": [
    "# ans 9"
   ]
  },
  {
   "cell_type": "markdown",
   "id": "976907ee",
   "metadata": {},
   "source": [
    "integer :- int()\n",
    "floating -point number :- float()\n",
    "string version :- str()\n",
    "    "
   ]
  },
  {
   "cell_type": "markdown",
   "id": "b87699b5",
   "metadata": {},
   "source": [
    "# ans 10"
   ]
  },
  {
   "cell_type": "markdown",
   "id": "03f07822",
   "metadata": {},
   "source": [
    "'i have eaten' + 99 + 'burritos' \n",
    "we can fix error by changing int 99 to str "
   ]
  },
  {
   "cell_type": "code",
   "execution_count": 11,
   "id": "9cb10abe",
   "metadata": {},
   "outputs": [
    {
     "data": {
      "text/plain": [
       "'i have eaten 99 burritos'"
      ]
     },
     "execution_count": 11,
     "metadata": {},
     "output_type": "execute_result"
    }
   ],
   "source": [
    "'i have eaten' + ' 99' + ' burritos'"
   ]
  },
  {
   "cell_type": "code",
   "execution_count": null,
   "id": "9a7ae9f0",
   "metadata": {},
   "outputs": [],
   "source": []
  }
 ],
 "metadata": {
  "kernelspec": {
   "display_name": "Python 3 (ipykernel)",
   "language": "python",
   "name": "python3"
  },
  "language_info": {
   "codemirror_mode": {
    "name": "ipython",
    "version": 3
   },
   "file_extension": ".py",
   "mimetype": "text/x-python",
   "name": "python",
   "nbconvert_exporter": "python",
   "pygments_lexer": "ipython3",
   "version": "3.9.7"
  }
 },
 "nbformat": 4,
 "nbformat_minor": 5
}
