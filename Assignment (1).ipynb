{
 "cells": [
  {
   "cell_type": "markdown",
   "id": "fba43310",
   "metadata": {},
   "source": [
    "## 1. Create a function in python to read the text file and replace specific content of the file."
   ]
  },
  {
   "cell_type": "code",
   "execution_count": 1,
   "id": "41796ef3",
   "metadata": {},
   "outputs": [],
   "source": [
    "import logging as lg"
   ]
  },
  {
   "cell_type": "code",
   "execution_count": 2,
   "id": "049bf971",
   "metadata": {},
   "outputs": [],
   "source": [
    "lg.basicConfig(filename='log.log' , level = lg.DEBUG , format = '%(asctime)s %(levelname)s %(message)s')\n",
    "def create_file(filename,txt):\n",
    "    lg.info(\"filname \" + str(filename))\n",
    "    try:\n",
    "        file = open(filename , \"w\")\n",
    "        file.writelines(txt)\n",
    "        file.close()\n",
    "        lg.info(\"Succesfully created\")\n",
    "    \n",
    "    except Exception as e:\n",
    "        lg.error(\"Error has happened : \")\n",
    "        lg.exception(\"Exception occured: \" + str(e))\n",
    "        return e"
   ]
  },
  {
   "cell_type": "code",
   "execution_count": 3,
   "id": "fa2cbc8b",
   "metadata": {},
   "outputs": [],
   "source": [
    "create_file(\"example.txt\", \"This is a placement assignment\")"
   ]
  },
  {
   "cell_type": "code",
   "execution_count": 4,
   "id": "7bc628e1",
   "metadata": {},
   "outputs": [],
   "source": [
    "def replace(filename,string,replace_string):\n",
    "    try:\n",
    "        \n",
    "        file = open(filename,\"r\")\n",
    "        data = file.read()\n",
    "        data = data.replace(string,replace_string)\n",
    "        file.close()\n",
    "        file = open(filename,\"w\")\n",
    "        file.write(data)\n",
    "        file.close()\n",
    "        lg.info(\"Succesfully replaced with \" + str(replace_string))\n",
    "    \n",
    "    except Exception as e:\n",
    "        lg.error(\"Error has happened : \")\n",
    "        lg.exception(\"Exception occured: \" + str(e))\n",
    "        return e"
   ]
  },
  {
   "cell_type": "code",
   "execution_count": 5,
   "id": "b1f50d6f",
   "metadata": {},
   "outputs": [],
   "source": [
    "filename = 'example.txt'\n",
    "string = 'Placement'\n",
    "replace_string = 'screening'\n",
    "\n",
    "replace(filename,string.lower(),replace_string)"
   ]
  },
  {
   "cell_type": "markdown",
   "id": "5de044cc",
   "metadata": {},
   "source": [
    "## 2. Demonstrate use of abstract class, multiple inheritance and decorator in python using examples."
   ]
  },
  {
   "cell_type": "markdown",
   "id": "7c2ae2ec",
   "metadata": {},
   "source": [
    "## Abstract Class"
   ]
  },
  {
   "cell_type": "code",
   "execution_count": 6,
   "id": "e2f9ef73",
   "metadata": {},
   "outputs": [],
   "source": [
    "from abc import ABC, abstractmethod\n",
    " \n",
    "class animal(ABC):\n",
    " \n",
    "    @abstractmethod\n",
    "    def sounds(self):\n",
    "        pass\n",
    "    \n",
    "class dog(animal):\n",
    "    def sounds(self):\n",
    "        return \"Bow Bow\"\n",
    "\n",
    "class cat(animal):\n",
    "    def sounds(self):\n",
    "        return \"Meow Meow\"\n",
    "\n",
    "class cattle(animal):\n",
    "    def sounds(self):\n",
    "        return \"Moo moo\"\n",
    "    "
   ]
  },
  {
   "cell_type": "code",
   "execution_count": 7,
   "id": "02ebc9bc",
   "metadata": {},
   "outputs": [
    {
     "name": "stdout",
     "output_type": "stream",
     "text": [
      "Bow Bow\n",
      "Meow Meow\n",
      "Moo moo\n"
     ]
    }
   ],
   "source": [
    "animal_1 = dog()\n",
    "print(animal_1.sounds())\n",
    "\n",
    "animal_2 = cat()\n",
    "print(animal_2.sounds())\n",
    "\n",
    "animal_3 = cattle()\n",
    "print(animal_3.sounds())"
   ]
  },
  {
   "cell_type": "markdown",
   "id": "ebf22d68",
   "metadata": {},
   "source": [
    "## Multiple Inheritance"
   ]
  },
  {
   "cell_type": "code",
   "execution_count": 8,
   "id": "551ec3ea",
   "metadata": {},
   "outputs": [],
   "source": [
    "class Calculate1:  \n",
    "    \n",
    "    def Add(self,a,b):  \n",
    "        return a+b\n",
    "\n",
    "class Calculate2:  \n",
    "    \n",
    "    def Multiply(self,a,b):  \n",
    "        return a*b  \n",
    "\n",
    "class Output(Calculate1,Calculate2):  \n",
    "    \n",
    "    def Divide(self,a,b):  \n",
    "        return a/b"
   ]
  },
  {
   "cell_type": "code",
   "execution_count": 9,
   "id": "8682e4a0",
   "metadata": {},
   "outputs": [
    {
     "name": "stdout",
     "output_type": "stream",
     "text": [
      "25\n",
      "16\n",
      "5.0\n"
     ]
    }
   ],
   "source": [
    "d = Output()  \n",
    "print(d.Add(5,20))  \n",
    "print(d.Multiply(8,2))  \n",
    "print(d.Divide(100,20)) "
   ]
  },
  {
   "cell_type": "markdown",
   "id": "61a90045",
   "metadata": {},
   "source": [
    "## decorater"
   ]
  },
  {
   "cell_type": "code",
   "execution_count": 10,
   "id": "175f64be",
   "metadata": {},
   "outputs": [
    {
     "name": "stdout",
     "output_type": "stream",
     "text": [
      "Hello World\n"
     ]
    },
    {
     "data": {
      "text/plain": [
       "'Above code is equivalent to -\\n\\ndef decorator():\\n    print(\"Hello\")\\n    \\ndecorator = Helloworld(decorator)'"
      ]
     },
     "execution_count": 10,
     "metadata": {},
     "output_type": "execute_result"
    }
   ],
   "source": [
    "def Helloworld(decorator):\n",
    "    print(\"Hello World\")\n",
    "\n",
    "@Helloworld\n",
    "def decorator():\n",
    "    print(\"Hello\")\n",
    "\n",
    "'''Above code is equivalent to -\n",
    "\n",
    "def decorator():\n",
    "    print(\"Hello\")\n",
    "    \n",
    "decorator = Helloworld(decorator)'''"
   ]
  },
  {
   "cell_type": "code",
   "execution_count": null,
   "id": "33f24faa",
   "metadata": {},
   "outputs": [],
   "source": []
  }
 ],
 "metadata": {
  "kernelspec": {
   "display_name": "Python 3 (ipykernel)",
   "language": "python",
   "name": "python3"
  },
  "language_info": {
   "codemirror_mode": {
    "name": "ipython",
    "version": 3
   },
   "file_extension": ".py",
   "mimetype": "text/x-python",
   "name": "python",
   "nbconvert_exporter": "python",
   "pygments_lexer": "ipython3",
   "version": "3.9.7"
  }
 },
 "nbformat": 4,
 "nbformat_minor": 5
}
